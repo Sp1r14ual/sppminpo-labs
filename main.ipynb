{
 "cells": [
  {
   "cell_type": "code",
   "execution_count": 176,
   "id": "e68da9f8-8bf4-4ce2-91d3-6e0c7f5dcb9b",
   "metadata": {},
   "outputs": [],
   "source": [
    "import math\n",
    "import csv\n",
    "from dataclasses import dataclass\n",
    "from typing import List, Tuple"
   ]
  },
  {
   "cell_type": "markdown",
   "id": "b3e25a5d-bafe-44e7-a6eb-9e5708299070",
   "metadata": {},
   "source": [
    "Постановка. Задача электроразведки. Однородное полупространство. Источник поля – заземлённая электрическая линия с постоянным\n",
    "значением силы тока $$I = 1 A $$ c координатами электродов $$A(0,0,0), B(100,0,0).$$\n",
    "\n",
    "Измеряется разность потенциалов в приёмных линиях с координатами $$M_1(200,0,0), N_1(300,0,0);$$ \n",
    "$$M_2(500,0,0), N_2(600,0,0);$$\n",
    "$$M_3(1000,0,0), N_3(1100,0,0).$$\n",
    "\n",
    "Неизвестным является значение удельной\n",
    "электрической проводимости. В качестве истинного значения выбрать\n",
    "$σ = 0.1 См/м.$ В качестве начального значения выбрать $σ^0 = 0.01 См/м.$\n"
   ]
  },
  {
   "cell_type": "markdown",
   "id": "602e512a-fe16-438a-94f3-924ba03a97a6",
   "metadata": {},
   "source": [
    "<b>Геометрия задачи (координаты на оси x)</b>"
   ]
  },
  {
   "cell_type": "code",
   "execution_count": 177,
   "id": "abb7427e-32f9-444d-bcc8-abc195c496ed",
   "metadata": {},
   "outputs": [],
   "source": [
    "A_x = 0.0\n",
    "B_x = 100.0\n",
    "M = [200.0, 500.0, 1000.0]\n",
    "N = [300.0, 600.0, 1100.0]\n",
    "\n",
    "I = 1.0"
   ]
  },
  {
   "cell_type": "markdown",
   "id": "ab16eb69-73c2-461e-8494-97225a1d7006",
   "metadata": {},
   "source": [
    "Разность потенциалов в линии MN\n",
    "$$ V_{AB}^{MN} = \\frac{I}{2\\pi\\sigma} \\left( \\left( \\frac{1}{r_B^M} - \\frac{1}{r_A^M} \\right) - \\left( \\frac{1}{r_B^N} - \\frac{1}{r_A^N} \\right) \\right)$$"
   ]
  },
  {
   "cell_type": "markdown",
   "id": "892aaa46-41e9-4b5d-9df2-aad18365a63f",
   "metadata": {},
   "source": [
    "Функция для вычисления геометрических коэффициентов (без $\\sigma$) $$ K = \\frac{I}{2\\pi} \\left( \\left( \\frac{1}{r_B^M} - \\frac{1}{r_A^M} \\right) - \\left( \\frac{1}{r_B^N} - \\frac{1}{r_A^N} \\right) \\right)$$\n",
    "Попарно по всем точкам $M$ и $N$"
   ]
  },
  {
   "cell_type": "code",
   "execution_count": 178,
   "id": "3b7b9e9c-58c7-4ed9-ad25-4420b5e3a076",
   "metadata": {},
   "outputs": [],
   "source": [
    "def calc_K(Ax: float, Bx: float, M: List[float], N: List[float], I: float) -> List[float]:\n",
    "    K = []\n",
    "    for Mi, Ni in zip(M, N):\n",
    "        term = (1.0 / abs(Mi - Bx) - 1.0 / abs(Mi - Ax)) - (1.0 / abs(Ni - Bx) - 1.0 / abs(Ni - Ax))\n",
    "        K.append(I / (2.0 * math.pi) * term)\n",
    "    return K"
   ]
  },
  {
   "cell_type": "markdown",
   "id": "7c685f32-4d43-436c-aeac-96cf75fc84b8",
   "metadata": {},
   "source": [
    "Теперь можно вычислить $V_i(σ)$ по формуле $$ V_i(σ) = K_i / σ $$"
   ]
  },
  {
   "cell_type": "code",
   "execution_count": 179,
   "id": "809edd91-90d5-4230-bb03-14e6dc9d578d",
   "metadata": {},
   "outputs": [],
   "source": [
    "def V_of_sigma(sigma: float, K: List[float]) -> List[float]:\n",
    "    return [k / sigma for k in K]"
   ]
  },
  {
   "cell_type": "markdown",
   "id": "35b64f93-64f9-42c0-a34d-a779b76a3255",
   "metadata": {},
   "source": [
    "И производные от них $$ dV_i/dσ = -K_i / σ^2 $$"
   ]
  },
  {
   "cell_type": "code",
   "execution_count": 180,
   "id": "9ff30864-3a22-4747-a94d-8ba88b258965",
   "metadata": {},
   "outputs": [],
   "source": [
    "def dV_dsigma(sigma: float, K: List[float]) -> List[float]:\n",
    "    return [-k / (sigma**2) for k in K]"
   ]
  },
  {
   "cell_type": "markdown",
   "id": "06ec25c8-aab8-41a8-800e-c79b67665767",
   "metadata": {},
   "source": [
    "Функционал обратной задачи $$ \\Phi(\\sigma) = \\sum_{i=1}^{3} \\left( w_i \\left( V_i(\\sigma) - \\bar{V}_i \\right) \\right)^2 \\to \\min_{\\sigma} $$"
   ]
  },
  {
   "cell_type": "code",
   "execution_count": 181,
   "id": "7b6345a3-85ad-42fd-832e-dd308599be0f",
   "metadata": {},
   "outputs": [],
   "source": [
    "def phi(sigma: float, K: List[float], Vbar: List[float], w: List[float]) -> float:\n",
    "    Vi = V_of_sigma(sigma, K)\n",
    "    return sum((wi * (v - vb))**2 for wi, v, vb in zip(w, Vi, Vbar))"
   ]
  },
  {
   "cell_type": "markdown",
   "id": "cd91c95b-e970-40b5-abd2-8511875ff1a1",
   "metadata": {},
   "source": [
    "Итерационный процесс метода Гаусса-Ньютона\n",
    "$$\\frac{\\partial V_i(\\sigma)}{\\partial \\sigma} = -\\frac{I}{2\\pi\\sigma^2} \\left( \\left( \\frac{1}{r_B^{M_i}} - \\frac{1}{r_A^{M_i}} \\right) - \\left( \\frac{1}{r_B^{N_i}} - \\frac{1}{r_A^{N_i}} \\right) \\right)$$\n",
    "$$ a_{11} = \\sum_{i=1}^{3} \\left( w_i \\frac{\\partial V_i(\\sigma)}{\\partial \\sigma} \\right)^2 \\bigg|_{\\sigma = \\sigma^0} $$\n",
    "$$ b_1 = -\\sum_{i=1}^{3} \\left( w_i^2 \\frac{\\partial V_i(\\sigma)}{\\partial \\sigma} (V_i(\\sigma) - \\bar{V}_i(\\sigma)) \\right) \\bigg|_{\\sigma = \\sigma^0} $$\n",
    "$$\\Delta\\sigma^{01} = b_1 / a_{11} $$\n",
    "$$ \\sigma^1 = \\sigma^0 + \\Delta\\sigma^{01}$$"
   ]
  },
  {
   "cell_type": "code",
   "execution_count": 182,
   "id": "b0164ded-86e0-4f05-a535-25010e876d9b",
   "metadata": {},
   "outputs": [],
   "source": [
    "@dataclass\n",
    "class GNResult:\n",
    "    iter: int\n",
    "    sigma: float\n",
    "    phi: float\n",
    "    delta_sigma: float"
   ]
  },
  {
   "cell_type": "code",
   "execution_count": 183,
   "id": "498fde87-f7f6-4fff-a267-8e78717826a9",
   "metadata": {},
   "outputs": [],
   "source": [
    "def gauss_newton_1param(\n",
    "    sigma0: float,\n",
    "    K: List[float],\n",
    "    Vbar: List[float],\n",
    "    w: List[float],\n",
    "    tol: float = 1e-9,\n",
    "    itmax: int = 50\n",
    ") -> Tuple[float, List[GNResult]]:\n",
    "    hist: List[GNResult] = []\n",
    "    sigma = sigma0\n",
    "    hist.append(GNResult(0, sigma, phi(sigma, K, Vbar, w), 0.0))\n",
    "    for it in range(1, itmax + 1):\n",
    "        dVi = dV_dsigma(sigma, K)\n",
    "        a11 = sum((wi * d)**2 for wi, d in zip(w, dVi))\n",
    "        b1 = -sum((wi**2) * d * (v - vb)\n",
    "                  for wi, d, v, vb in zip(w, dVi, V_of_sigma(sigma, K), Vbar))\n",
    "        delta = b1 / a11\n",
    "        sigma = sigma + delta\n",
    "        hist.append(GNResult(it, sigma, phi(sigma, K, Vbar, w), delta))\n",
    "        if abs(delta) < tol:\n",
    "            break\n",
    "    return sigma, hist"
   ]
  },
  {
   "cell_type": "markdown",
   "id": "965be7a1-b5a1-42b0-bf7a-0f5ada9654be",
   "metadata": {},
   "source": [
    "Вычислим коэффициенты $K_i$"
   ]
  },
  {
   "cell_type": "code",
   "execution_count": 184,
   "id": "a8bf2a7c-62ec-4c95-af0c-54a8409cbc97",
   "metadata": {},
   "outputs": [
    {
     "data": {
      "text/plain": [
       "[0.0005305164769729845, 2.6525823848649238e-05, 3.2152513755938386e-06]"
      ]
     },
     "execution_count": 184,
     "metadata": {},
     "output_type": "execute_result"
    }
   ],
   "source": [
    "K = calc_K(A_x, B_x, M, N, I)\n",
    "K"
   ]
  },
  {
   "cell_type": "markdown",
   "id": "3f874785-a6d8-4bc9-aec1-5889bf616706",
   "metadata": {},
   "source": [
    "Вычислим \"синтетические\" данные $$\\sigma_{true}=0.1$$ $$ \\bar{V}=K/\\sigma_{true}$$"
   ]
  },
  {
   "cell_type": "code",
   "execution_count": 185,
   "id": "bdbbb186-0be2-4617-9577-2c3717b62e20",
   "metadata": {},
   "outputs": [
    {
     "data": {
      "text/plain": [
       "[0.005305164769729845, 0.00026525823848649237, 3.2152513755938386e-05]"
      ]
     },
     "execution_count": 185,
     "metadata": {},
     "output_type": "execute_result"
    }
   ],
   "source": [
    "sigma_true = 0.1\n",
    "Vbar = V_of_sigma(sigma_true, K)\n",
    "Vbar"
   ]
  },
  {
   "cell_type": "markdown",
   "id": "0d60f633-ee85-473b-a9df-5ba352f81ced",
   "metadata": {},
   "source": [
    "Весовые коэффициенты $w_i$ вычислим по формуле $$ w_i = 1 / \\bar{V}_i $$"
   ]
  },
  {
   "cell_type": "code",
   "execution_count": 186,
   "id": "63bff610-7bb0-49c3-b5a7-adb70086b229",
   "metadata": {},
   "outputs": [
    {
     "data": {
      "text/plain": [
       "[188.49555921538757, 3769.91118430775, 31101.767270539018]"
      ]
     },
     "execution_count": 186,
     "metadata": {},
     "output_type": "execute_result"
    }
   ],
   "source": [
    "w = [1.0 / vb for vb in Vbar]\n",
    "w"
   ]
  },
  {
   "cell_type": "markdown",
   "id": "9811ad17-36fa-490c-b34e-80d3c3953475",
   "metadata": {},
   "source": [
    "Запустим итерационный процесс с начальным значением $\\sigma_0 = 0.01$"
   ]
  },
  {
   "cell_type": "code",
   "execution_count": 187,
   "id": "89c07347-a0b7-43a3-a5a9-d323fcbf5d60",
   "metadata": {},
   "outputs": [],
   "source": [
    "sigma0 = 0.01\n",
    "sigma_est, history = gauss_newton_1param(sigma0, K, Vbar, w)"
   ]
  },
  {
   "cell_type": "code",
   "execution_count": 188,
   "id": "9aacc1d0-b992-48ba-8fca-a026dec5d763",
   "metadata": {},
   "outputs": [
    {
     "name": "stdout",
     "output_type": "stream",
     "text": [
      "['iter', 'sigma', 'phi']\n",
      "[0, '1.000000000000e-02', '2.430000000000e+02']\n",
      "[1, '1.900000000000e-02', '5.452354570637e+01']\n",
      "[2, '3.439000000000e-02', '1.091935482371e+01']\n",
      "[3, '5.695327900000e-02', '1.713815000531e+00']\n",
      "[4, '8.146979811148e-02', '1.551987705620e-01']\n",
      "[5, '9.656631617971e-02', '3.793067142692e-03']\n",
      "[6, '9.988209815422e-02', '4.180104601577e-06']\n",
      "[7, '9.999986099155e-02', '5.797021065077e-12']\n",
      "[8, '9.999999999981e-02', '1.120326533826e-23']\n",
      "[9, '1.000000000000e-01', '0.000000000000e+00']\n"
     ]
    }
   ],
   "source": [
    "# print([\"iter\", \"sigma\", \"phi\", \"delta_sigma\"])\n",
    "print([\"iter\", \"sigma\", \"phi\"])\n",
    "for r in history:\n",
    "    # print([r.iter, f\"{r.sigma:.12e}\", f\"{r.phi:.12e}\", f\"{r.delta_sigma:.12e}\"])\n",
    "    print([r.iter, f\"{r.sigma:.12e}\", f\"{r.phi:.12e}\"])"
   ]
  },
  {
   "cell_type": "code",
   "execution_count": 189,
   "id": "dfe201f3-a6b0-4969-a51b-1c7562903eff",
   "metadata": {},
   "outputs": [
    {
     "name": "stdout",
     "output_type": "stream",
     "text": [
      "Оценка σ = 0.100000000000 S/m\n"
     ]
    }
   ],
   "source": [
    "print(f\"Оценка σ = {sigma_est:.12f} S/m\")"
   ]
  }
 ],
 "metadata": {
  "kernelspec": {
   "display_name": "Python 3 (ipykernel)",
   "language": "python",
   "name": "python3"
  },
  "language_info": {
   "codemirror_mode": {
    "name": "ipython",
    "version": 3
   },
   "file_extension": ".py",
   "mimetype": "text/x-python",
   "name": "python",
   "nbconvert_exporter": "python",
   "pygments_lexer": "ipython3",
   "version": "3.12.7"
  }
 },
 "nbformat": 4,
 "nbformat_minor": 5
}
